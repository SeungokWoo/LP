{
 "cells": [
  {
   "cell_type": "code",
   "execution_count": 9,
   "metadata": {},
   "outputs": [],
   "source": [
    "import cvxpy as cp"
   ]
  },
  {
   "cell_type": "code",
   "execution_count": 10,
   "metadata": {},
   "outputs": [],
   "source": [
    "x11 = cp.Variable()\n",
    "x12 = cp.Variable()\n",
    "x13 = cp.Variable()\n",
    "x14 = cp.Variable()\n",
    "x15 = cp.Variable()\n",
    "x21 = cp.Variable()\n",
    "x22 = cp.Variable()\n",
    "x23 = cp.Variable()\n",
    "x24 = cp.Variable()\n",
    "x25 = cp.Variable()\n",
    "x31 = cp.Variable()\n",
    "x32 = cp.Variable()\n",
    "x33 = cp.Variable()\n",
    "x34 = cp.Variable()\n",
    "x35 = cp.Variable()"
   ]
  },
  {
   "cell_type": "code",
   "execution_count": 15,
   "metadata": {},
   "outputs": [],
   "source": [
    "obj_fnc = cp.Maximize(7*x11 + 3*x12 + 8*x13 + 4*x14 + 9*x21 + 5*x22 + 6*x23 + 3*x24 + 4*x31 + 6*x32 + 9*x33 + 6*x34)\n",
    "const = [x11 + x12 + x13 + x14 + x15 == 6000, x21 + x22 + x23 + x24 + x25 == 9000, x31+x32+x33+x34+x35==4000, x11+x21+x31==3900, x12+x22+x32==5200, x13+x23+x33==2700, \n",
    "         x14+x24+x34==6400, x15+x25+x35==800, x11>=0, x12>=0, x13>=0, x14>=0, x15>=0, x21>=0, x22>=0, x23>=0, x24>=0, x25>=0, x31>=0, x32>=0, x33>=0, x34>=0, x35>=0]"
   ]
  },
  {
   "cell_type": "code",
   "execution_count": 16,
   "metadata": {},
   "outputs": [],
   "source": [
    "prob = cp.Problem(obj_fnc, const)"
   ]
  },
  {
   "cell_type": "code",
   "execution_count": 17,
   "metadata": {},
   "outputs": [
    {
     "data": {
      "text/plain": [
       "116200.0"
      ]
     },
     "execution_count": 17,
     "metadata": {},
     "output_type": "execute_result"
    }
   ],
   "source": [
    "prob.solve(solver=cp.CPLEX)"
   ]
  },
  {
   "cell_type": "code",
   "execution_count": 20,
   "metadata": {},
   "outputs": [
    {
     "name": "stdout",
     "output_type": "stream",
     "text": [
      "The optimal value is 116200.0\n",
      "The optimal x11 is 0.0\n",
      "The optimal x12 is 0.0\n",
      "The optimal x13 is 2700.0\n",
      "The optimal x14 is 2500.0\n",
      "The optimal x15 is 800.0\n",
      "The optimal x21 is 3900.0\n",
      "The optimal x22 is 5100.0\n",
      "The optimal x23 is 0.0\n",
      "The optimal x24 is 0.0\n",
      "The optimal x25 is 0.0\n",
      "The optimal x31 is 0.0\n",
      "The optimal x32 is 100.0\n",
      "The optimal x33 is 0.0\n",
      "The optimal x34 is 3900.0\n",
      "The optimal x35 is 0.0\n"
     ]
    }
   ],
   "source": [
    "print(\"The optimal value is\", prob.value)\n",
    "print(\"The optimal x11 is\", x11.value)\n",
    "print(\"The optimal x12 is\", x12.value)\n",
    "print(\"The optimal x13 is\", x13.value)\n",
    "print(\"The optimal x14 is\", x14.value)\n",
    "print(\"The optimal x15 is\", x15.value)\n",
    "print(\"The optimal x21 is\", x21.value)\n",
    "print(\"The optimal x22 is\", x22.value)\n",
    "print(\"The optimal x23 is\", x23.value)\n",
    "print(\"The optimal x24 is\", x24.value)\n",
    "print(\"The optimal x25 is\", x25.value)\n",
    "print(\"The optimal x31 is\", x31.value)\n",
    "print(\"The optimal x32 is\", x32.value)\n",
    "print(\"The optimal x33 is\", x33.value)\n",
    "print(\"The optimal x34 is\", x34.value)\n",
    "print(\"The optimal x35 is\", x35.value)"
   ]
  },
  {
   "cell_type": "code",
   "execution_count": null,
   "metadata": {},
   "outputs": [],
   "source": []
  }
 ],
 "metadata": {
  "kernelspec": {
   "display_name": "Python 3",
   "language": "python",
   "name": "python3"
  },
  "language_info": {
   "codemirror_mode": {
    "name": "ipython",
    "version": 3
   },
   "file_extension": ".py",
   "mimetype": "text/x-python",
   "name": "python",
   "nbconvert_exporter": "python",
   "pygments_lexer": "ipython3",
   "version": "3.6.10"
  }
 },
 "nbformat": 4,
 "nbformat_minor": 4
}
