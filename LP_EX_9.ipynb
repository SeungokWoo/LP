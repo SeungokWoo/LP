{
 "cells": [
  {
   "cell_type": "code",
   "execution_count": 1,
   "metadata": {},
   "outputs": [],
   "source": [
    "import cvxpy as cp"
   ]
  },
  {
   "cell_type": "code",
   "execution_count": 2,
   "metadata": {},
   "outputs": [],
   "source": [
    "x1 = cp.Variable()\n",
    "x2 = cp.Variable()\n",
    "x3 = cp.Variable()"
   ]
  },
  {
   "cell_type": "code",
   "execution_count": 3,
   "metadata": {},
   "outputs": [],
   "source": [
    "obj_fnc = cp.Maximize(4*x1+10*x2+15-2*(x3-5))\n",
    "const = [2*x1+2*x2<=16, 3*x1+4*x2<=24, 2*x2==x3, x3>=5, x1>=0, x2>=0]"
   ]
  },
  {
   "cell_type": "code",
   "execution_count": 4,
   "metadata": {},
   "outputs": [],
   "source": [
    "prob = cp.Problem(obj_fnc, const)"
   ]
  },
  {
   "cell_type": "code",
   "execution_count": 5,
   "metadata": {},
   "outputs": [
    {
     "data": {
      "text/plain": [
       "61.0"
      ]
     },
     "execution_count": 5,
     "metadata": {},
     "output_type": "execute_result"
    }
   ],
   "source": [
    "prob.solve(solver = cp.CPLEX)"
   ]
  },
  {
   "cell_type": "code",
   "execution_count": 6,
   "metadata": {},
   "outputs": [
    {
     "name": "stdout",
     "output_type": "stream",
     "text": [
      "The optimal value is 61.0\n",
      "The optimal x1 is 0.0\n",
      "The optimal x2 is 6.0\n",
      "The optimal x3 is 12.0\n"
     ]
    }
   ],
   "source": [
    "print(\"The optimal value is\", prob.value)\n",
    "print(\"The optimal x1 is\", x1.value)\n",
    "print(\"The optimal x2 is\", x2.value)\n",
    "print(\"The optimal x3 is\", x3.value)"
   ]
  },
  {
   "cell_type": "code",
   "execution_count": null,
   "metadata": {},
   "outputs": [],
   "source": []
  }
 ],
 "metadata": {
  "kernelspec": {
   "display_name": "Python 3",
   "language": "python",
   "name": "python3"
  },
  "language_info": {
   "codemirror_mode": {
    "name": "ipython",
    "version": 3
   },
   "file_extension": ".py",
   "mimetype": "text/x-python",
   "name": "python",
   "nbconvert_exporter": "python",
   "pygments_lexer": "ipython3",
   "version": "3.6.10"
  }
 },
 "nbformat": 4,
 "nbformat_minor": 4
}
